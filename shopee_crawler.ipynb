{
 "cells": [
  {
   "cell_type": "code",
   "execution_count": 5,
   "metadata": {},
   "outputs": [],
   "source": [
    "import requests\n",
    "import pandas as pd\n",
    "import os, time, random, re, csv\n",
    "from urllib.parse import urlparse\n",
    "import utils\n",
    "from IPython import display\n",
    "import json"
   ]
  },
  {
   "cell_type": "code",
   "execution_count": 8,
   "metadata": {},
   "outputs": [],
   "source": [
    "URL_FILE = \"shopee_urls.csv\""
   ]
  },
  {
   "cell_type": "code",
   "execution_count": 10,
   "metadata": {},
   "outputs": [
    {
     "name": "stdout",
     "output_type": "stream",
     "text": [
      "No URLs left to scrape.\n",
      "All URLs have been scraped.\n"
     ]
    }
   ],
   "source": [
    "all_urls_scraped = False\n",
    "\n",
    "while not all_urls_scraped:\n",
    "    display.clear_output(wait=True)\n",
    "    try:\n",
    "        all_urls_scraped = utils.scrape_reviews(URL_FILE)\n",
    "        if all_urls_scraped:\n",
    "            print(\"All URLs have been scraped.\")\n",
    "            break\n",
    "        else:\n",
    "            print(\"Preparing for another epoch...\")\n",
    "    except Exception as e:\n",
    "        print(f\"An error occured: {e}\")\n",
    "        break\n",
    "    time.sleep(5)"
   ]
  },
  {
   "cell_type": "code",
   "execution_count": null,
   "metadata": {},
   "outputs": [],
   "source": [
    "#This resets the url status file and DELETE reviews.csv\n",
    "#utils.reset_url_status(URL_FILE)"
   ]
  }
 ],
 "metadata": {
  "kernelspec": {
   "display_name": "py3",
   "language": "python",
   "name": "python3"
  },
  "language_info": {
   "codemirror_mode": {
    "name": "ipython",
    "version": 3
   },
   "file_extension": ".py",
   "mimetype": "text/x-python",
   "name": "python",
   "nbconvert_exporter": "python",
   "pygments_lexer": "ipython3",
   "version": "3.11.9"
  }
 },
 "nbformat": 4,
 "nbformat_minor": 2
}
